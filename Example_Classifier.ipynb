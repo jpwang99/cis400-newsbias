{
  "nbformat": 4,
  "nbformat_minor": 0,
  "metadata": {
    "colab": {
      "name": "Example Classifier",
      "provenance": []
    },
    "kernelspec": {
      "name": "python3",
      "display_name": "Python 3"
    }
  },
  "cells": [
    {
      "cell_type": "markdown",
      "metadata": {
        "id": "w_xnydAAmZA8"
      },
      "source": [
        "Package Imports"
      ]
    },
    {
      "cell_type": "code",
      "metadata": {
        "id": "Fp0tj6lQmYEX",
        "colab": {
          "base_uri": "https://localhost:8080/"
        },
        "outputId": "cf4a9084-ae2a-4360-fb68-54247532cc39"
      },
      "source": [
        "# Regular modules for data science and visualization:\n",
        "import random\n",
        "import numpy as np\n",
        "import pandas as pd\n",
        "import seaborn as sns\n",
        "import matplotlib.pyplot as plt\n",
        "\n",
        "# Keras (2.2.4) and tensorflow (1.13).\n",
        "import tensorflow as tf\n",
        "import tensorflow_hub as hub\n",
        "from keras.regularizers import l1, l2\n",
        "from keras.models import Sequential\n",
        "from keras.layers import Dense\n",
        "from keras.layers import Dropout\n",
        "from keras import backend\n",
        "from keras import optimizers\n",
        "from keras.models import model_from_json\n",
        "import os\n",
        "\n",
        "#sklearn and imblearn modules:\n",
        "from sklearn.model_selection import cross_val_predict\n",
        "from sklearn.preprocessing import StandardScaler\n",
        "from sklearn.model_selection import StratifiedShuffleSplit\n",
        "from imblearn.over_sampling import SMOTE\n",
        "from sklearn import metrics\n",
        "from sklearn import model_selection, svm\n",
        "\n",
        "#csv reading fixes\n",
        "import sys\n",
        "import csv\n",
        "csv.field_size_limit(sys.maxsize)\n",
        "\n",
        "from google.colab import drive\n",
        "drive.mount('/content/drive')"
      ],
      "execution_count": null,
      "outputs": [
        {
          "output_type": "stream",
          "text": [
            "/usr/local/lib/python3.6/dist-packages/sklearn/externals/six.py:31: FutureWarning: The module is deprecated in version 0.21 and will be removed in version 0.23 since we've dropped support for Python 2.7. Please rely on the official version of six (https://pypi.org/project/six/).\n",
            "  \"(https://pypi.org/project/six/).\", FutureWarning)\n",
            "/usr/local/lib/python3.6/dist-packages/sklearn/utils/deprecation.py:144: FutureWarning: The sklearn.neighbors.base module is  deprecated in version 0.22 and will be removed in version 0.24. The corresponding classes / functions should instead be imported from sklearn.neighbors. Anything that cannot be imported from sklearn.neighbors is now part of the private API.\n",
            "  warnings.warn(message, FutureWarning)\n"
          ],
          "name": "stderr"
        },
        {
          "output_type": "stream",
          "text": [
            "Mounted at /content/drive\n"
          ],
          "name": "stdout"
        }
      ]
    },
    {
      "cell_type": "code",
      "metadata": {
        "id": "GEa-scPc67h2"
      },
      "source": [
        "e_All = np.array(pd.read_csv('/content/drive/MyDrive/SeniorDesignFiles/vectors.csv', header=None))"
      ],
      "execution_count": null,
      "outputs": []
    },
    {
      "cell_type": "code",
      "metadata": {
        "id": "K-7DDuc9otDw"
      },
      "source": [
        "# import csvs into 1 df and only keep needed data\n",
        "df1 = pd.read_csv('/content/drive/MyDrive/SeniorDesignFiles/articles1.1.csv', engine='python', error_bad_lines=False)\n",
        "df2 = pd.read_csv('/content/drive/MyDrive/SeniorDesignFiles/articles2.1.csv', engine='python', error_bad_lines=False)\n",
        "df3 = pd.read_csv('/content/drive/MyDrive/SeniorDesignFiles/articles3.1.csv', engine='python', error_bad_lines=False)\n",
        "df = df1.append([df2, df3], sort=False)[['publication', 'content']]\n",
        "df = df[df['publication'] != 'Talking Points Memo']"
      ],
      "execution_count": null,
      "outputs": []
    },
    {
      "cell_type": "code",
      "metadata": {
        "id": "evwIGcZAqYcZ"
      },
      "source": [
        "#Label data based on bias\n",
        "publisher_dict ={'Atlantic': 2,\n",
        "                 'Breitbart': 5,\n",
        "                 'Business Insider': 3,\n",
        "                 'Buzzfeed News': 1,\n",
        "                 'CNN': 2,\n",
        "                 'Fox News': 4,\n",
        "                 'Guardian': 2,\n",
        "                 'NPR': 3,\n",
        "                 'National Review': 5,\n",
        "                 'New York Post': 4,\n",
        "                 'New York Times': 2,\n",
        "                 'Reuters': 3,\n",
        "                 'Vox': 1,\n",
        "                 'Washington Post': 2}\n",
        "\n",
        "df['label'] = df['publication'].apply(lambda x: publisher_dict[x])"
      ],
      "execution_count": null,
      "outputs": []
    },
    {
      "cell_type": "code",
      "metadata": {
        "id": "Fuvt0Ff64Id7"
      },
      "source": [
        "# remove all instances of publisher names from content\n",
        "n_s = list(df['content'])\n",
        "for key in publisher_dict.keys():\n",
        "  n_s = [word.replace(key,'') for word in n_s]\n",
        "\n",
        "# get classes of all elements\n",
        "classes_All = np.asarray(df['label'])"
      ],
      "execution_count": null,
      "outputs": []
    },
    {
      "cell_type": "code",
      "metadata": {
        "id": "Ew48Tvpn3xLz"
      },
      "source": [
        "dic = {1: 0, 2: 0, 3: 0, 4: 0, 5: 0}\n",
        "for i in classes_All:\n",
        "  dic[i] += 100/len(classes_All)"
      ],
      "execution_count": null,
      "outputs": []
    },
    {
      "cell_type": "code",
      "metadata": {
        "colab": {
          "base_uri": "https://localhost:8080/"
        },
        "id": "u5yl9DdRIoiW",
        "outputId": "20627a11-58fd-4694-fc03-100acffbd1a0"
      },
      "source": [
        "class_weights = {}\n",
        "for i in dic.keys():\n",
        "  class_weights[i-1] = 1/dic[i]/0.3251363864853185\n",
        "\n",
        "class_weights"
      ],
      "execution_count": null,
      "outputs": [
        {
          "output_type": "execute_result",
          "data": {
            "text/plain": [
              "{0: 0.4310247271244633,\n",
              " 1: 0.09131627146571636,\n",
              " 2: 0.14340179064285363,\n",
              " 3: 0.19336629059127836,\n",
              " 4: 0.14089092017568816}"
            ]
          },
          "metadata": {
            "tags": []
          },
          "execution_count": 7
        }
      ]
    },
    {
      "cell_type": "code",
      "metadata": {
        "id": "IgvEJSIZq1Cs",
        "colab": {
          "base_uri": "https://localhost:8080/"
        },
        "outputId": "c3d88256-41ea-4f5b-c9e0-fb0f8827a56c"
      },
      "source": [
        "\n",
        "# Load the encoder:\n",
        "g = tf.Graph()\n",
        "with g.as_default():\n",
        "  text_input = tf.compat.v1.placeholder(dtype=tf.string, shape=[None])\n",
        "  embed = hub.Module(\"https://tfhub.dev/google/universal-sentence-encoder-large/3\")\n",
        "  embedded_text = embed(text_input)\n",
        "  init_op = tf.group([tf.compat.v1.global_variables_initializer(), tf.compat.v1.tables_initializer()])\n",
        "g.finalize()\n",
        "\n",
        "# Initialize session:\n",
        "session = tf.compat.v1.Session(graph=g)\n",
        "session.run(init_op)\n",
        "\n",
        "# Function to compute all embeddings for each sentence (takes a while)\n",
        "def similarity_matrix(merge_list):\n",
        "    #initialize distance array:\n",
        "    #initialize embeddings array:\n",
        "    emb_all = np.zeros([len(merge_list),512])\n",
        "    #Outer for loop:\n",
        "    per = 0\n",
        "    for i in range(0,len(merge_list)):\n",
        "        #Here is where we run the previously started session, so it is important to run previous step succesfully:\n",
        "        i_emb = session.run(embedded_text, feed_dict={text_input: [merge_list[i]]})\n",
        "        emb_all[i,:] = i_emb\n",
        "        if i % 10**4 == 0:\n",
        "          print(int(i / len(merge_list) * 100))\n",
        "    return emb_all"
      ],
      "execution_count": null,
      "outputs": [
        {
          "output_type": "stream",
          "text": [
            "INFO:tensorflow:Saver not created because there are no variables in the graph to restore\n"
          ],
          "name": "stdout"
        },
        {
          "output_type": "stream",
          "text": [
            "INFO:tensorflow:Saver not created because there are no variables in the graph to restore\n"
          ],
          "name": "stderr"
        }
      ]
    },
    {
      "cell_type": "code",
      "metadata": {
        "id": "5WfJzS77FXpn"
      },
      "source": [
        "e_All = similarity_matrix(n_s)\n",
        "# Save to csv as this step takes so long\n",
        "np.savetxt(\"vectors.csv\", np.asarray(e_All), delimiter=\",\")"
      ],
      "execution_count": null,
      "outputs": []
    },
    {
      "cell_type": "markdown",
      "metadata": {
        "id": "pKy8xZNSISj7"
      },
      "source": [
        "Building Model"
      ]
    },
    {
      "cell_type": "code",
      "metadata": {
        "id": "LG3MuF3aIRHP"
      },
      "source": [
        "#Choose optimizer:\n",
        "optim = optimizers.Adam(lr=0.00015) \n",
        "\n",
        "# create NN for news clissification:\n",
        "news_DNN = Sequential()\n",
        "news_DNN.add(Dense(40, input_dim=512, activation = 'relu',kernel_regularizer=l2(0.1)))\n",
        "news_DNN.add(Dropout(0.25))\n",
        "news_DNN.add(Dense(40, activation = 'relu',kernel_regularizer=l2(0.1)))\n",
        "news_DNN.add(Dropout(0.25))\n",
        "\n",
        "# Output layer with multiclass activation function:\n",
        "news_DNN.add(Dense(5,activation='softmax'))\n",
        "# Compile model:\n",
        "news_DNN.compile(loss='sparse_categorical_crossentropy', optimizer=optim, metrics=['acc'])"
      ],
      "execution_count": null,
      "outputs": []
    },
    {
      "cell_type": "code",
      "metadata": {
        "id": "oo4NW2DgIpvx"
      },
      "source": [
        "# split into shuffled folds\n",
        "sss = StratifiedShuffleSplit(n_splits=1, test_size=0.33) # chose one split to make analysis faster. change it if required\n",
        "scaler = StandardScaler()\n",
        "for t, te in sss.split(e_All, classes_All):\n",
        "  # Scale the data with StandardScaler before splitting:\n",
        "  X_train, X_test = scaler.fit_transform(e_All)[t], \\\n",
        "  scaler.fit_transform(e_All)[te]\n",
        "  y_train, y_test = classes_All[t]-1, classes_All[te]-1"
      ],
      "execution_count": null,
      "outputs": []
    },
    {
      "cell_type": "markdown",
      "metadata": {
        "id": "l74PWKVWIzMs"
      },
      "source": [
        "Train model"
      ]
    },
    {
      "cell_type": "code",
      "metadata": {
        "id": "m6Sg3fhtIyuh",
        "colab": {
          "base_uri": "https://localhost:8080/"
        },
        "outputId": "da52b1e6-595f-40c4-9f60-c16f9255d147"
      },
      "source": [
        "#fit the network.\n",
        "m_h = news_DNN.fit(X_train, y_train, epochs=200, \\\n",
        "validation_data=(X_test, y_test), batch_size=32, verbose=1) # class_weight=class_weights"
      ],
      "execution_count": null,
      "outputs": [
        {
          "output_type": "stream",
          "text": [
            "Epoch 1/200\n",
            "2876/2876 [==============================] - 6s 2ms/step - loss: 1.3158 - acc: 0.4823 - val_loss: 1.2436 - val_acc: 0.5176\n",
            "Epoch 2/200\n",
            "2876/2876 [==============================] - 6s 2ms/step - loss: 1.2895 - acc: 0.4996 - val_loss: 1.2411 - val_acc: 0.5181\n",
            "Epoch 3/200\n",
            "2876/2876 [==============================] - 6s 2ms/step - loss: 1.2841 - acc: 0.5036 - val_loss: 1.2387 - val_acc: 0.5251\n",
            "Epoch 4/200\n",
            "2876/2876 [==============================] - 6s 2ms/step - loss: 1.2827 - acc: 0.5037 - val_loss: 1.2277 - val_acc: 0.5286\n",
            "Epoch 5/200\n",
            "2876/2876 [==============================] - 6s 2ms/step - loss: 1.2804 - acc: 0.5049 - val_loss: 1.2358 - val_acc: 0.5222\n",
            "Epoch 6/200\n",
            "2876/2876 [==============================] - 6s 2ms/step - loss: 1.2773 - acc: 0.5049 - val_loss: 1.2288 - val_acc: 0.5256\n",
            "Epoch 7/200\n",
            "2876/2876 [==============================] - 6s 2ms/step - loss: 1.2789 - acc: 0.5049 - val_loss: 1.2267 - val_acc: 0.5258\n",
            "Epoch 8/200\n",
            "2876/2876 [==============================] - 6s 2ms/step - loss: 1.2772 - acc: 0.5067 - val_loss: 1.2361 - val_acc: 0.5219\n",
            "Epoch 9/200\n",
            "2876/2876 [==============================] - 6s 2ms/step - loss: 1.2800 - acc: 0.5042 - val_loss: 1.2287 - val_acc: 0.5255\n",
            "Epoch 10/200\n",
            "2876/2876 [==============================] - 6s 2ms/step - loss: 1.2774 - acc: 0.5073 - val_loss: 1.2326 - val_acc: 0.5269\n",
            "Epoch 11/200\n",
            "2876/2876 [==============================] - 6s 2ms/step - loss: 1.2767 - acc: 0.5066 - val_loss: 1.2305 - val_acc: 0.5294\n",
            "Epoch 12/200\n",
            "2876/2876 [==============================] - 6s 2ms/step - loss: 1.2769 - acc: 0.5069 - val_loss: 1.2361 - val_acc: 0.5247\n",
            "Epoch 13/200\n",
            "2876/2876 [==============================] - 6s 2ms/step - loss: 1.2760 - acc: 0.5077 - val_loss: 1.2332 - val_acc: 0.5264\n",
            "Epoch 14/200\n",
            "2876/2876 [==============================] - 6s 2ms/step - loss: 1.2764 - acc: 0.5063 - val_loss: 1.2296 - val_acc: 0.5271\n",
            "Epoch 15/200\n",
            "2876/2876 [==============================] - 6s 2ms/step - loss: 1.2747 - acc: 0.5085 - val_loss: 1.2353 - val_acc: 0.5227\n",
            "Epoch 16/200\n",
            "2876/2876 [==============================] - 6s 2ms/step - loss: 1.2766 - acc: 0.5064 - val_loss: 1.2326 - val_acc: 0.5268\n",
            "Epoch 17/200\n",
            "2876/2876 [==============================] - 6s 2ms/step - loss: 1.2769 - acc: 0.5092 - val_loss: 1.2324 - val_acc: 0.5277\n",
            "Epoch 18/200\n",
            "2876/2876 [==============================] - 6s 2ms/step - loss: 1.2743 - acc: 0.5084 - val_loss: 1.2304 - val_acc: 0.5249\n",
            "Epoch 19/200\n",
            "2876/2876 [==============================] - 6s 2ms/step - loss: 1.2765 - acc: 0.5081 - val_loss: 1.2297 - val_acc: 0.5270\n",
            "Epoch 20/200\n",
            "2876/2876 [==============================] - 6s 2ms/step - loss: 1.2768 - acc: 0.5066 - val_loss: 1.2297 - val_acc: 0.5297\n",
            "Epoch 21/200\n",
            "2876/2876 [==============================] - 7s 2ms/step - loss: 1.2750 - acc: 0.5081 - val_loss: 1.2327 - val_acc: 0.5263\n",
            "Epoch 22/200\n",
            "2876/2876 [==============================] - 6s 2ms/step - loss: 1.2741 - acc: 0.5085 - val_loss: 1.2320 - val_acc: 0.5274\n",
            "Epoch 23/200\n",
            "2876/2876 [==============================] - 6s 2ms/step - loss: 1.2759 - acc: 0.5077 - val_loss: 1.2285 - val_acc: 0.5275\n",
            "Epoch 24/200\n",
            "2876/2876 [==============================] - 6s 2ms/step - loss: 1.2765 - acc: 0.5073 - val_loss: 1.2302 - val_acc: 0.5303\n",
            "Epoch 25/200\n",
            "2876/2876 [==============================] - 6s 2ms/step - loss: 1.2765 - acc: 0.5055 - val_loss: 1.2305 - val_acc: 0.5258\n",
            "Epoch 26/200\n",
            "2876/2876 [==============================] - 6s 2ms/step - loss: 1.2748 - acc: 0.5066 - val_loss: 1.2316 - val_acc: 0.5271\n",
            "Epoch 27/200\n",
            "2876/2876 [==============================] - 6s 2ms/step - loss: 1.2771 - acc: 0.5064 - val_loss: 1.2359 - val_acc: 0.5269\n",
            "Epoch 28/200\n",
            "2876/2876 [==============================] - 6s 2ms/step - loss: 1.2753 - acc: 0.5092 - val_loss: 1.2291 - val_acc: 0.5268\n",
            "Epoch 29/200\n",
            "2876/2876 [==============================] - 7s 2ms/step - loss: 1.2757 - acc: 0.5088 - val_loss: 1.2309 - val_acc: 0.5252\n",
            "Epoch 30/200\n",
            "2876/2876 [==============================] - 6s 2ms/step - loss: 1.2757 - acc: 0.5076 - val_loss: 1.2288 - val_acc: 0.5287\n",
            "Epoch 31/200\n",
            "2876/2876 [==============================] - 6s 2ms/step - loss: 1.2786 - acc: 0.5096 - val_loss: 1.2403 - val_acc: 0.5196\n",
            "Epoch 32/200\n",
            "2876/2876 [==============================] - 6s 2ms/step - loss: 1.2790 - acc: 0.5066 - val_loss: 1.2367 - val_acc: 0.5226\n",
            "Epoch 33/200\n",
            "2876/2876 [==============================] - 6s 2ms/step - loss: 1.2776 - acc: 0.5070 - val_loss: 1.2317 - val_acc: 0.5275\n",
            "Epoch 34/200\n",
            "2876/2876 [==============================] - 6s 2ms/step - loss: 1.2758 - acc: 0.5074 - val_loss: 1.2298 - val_acc: 0.5281\n",
            "Epoch 35/200\n",
            "2876/2876 [==============================] - 6s 2ms/step - loss: 1.2758 - acc: 0.5085 - val_loss: 1.2391 - val_acc: 0.5225\n",
            "Epoch 36/200\n",
            "2876/2876 [==============================] - 6s 2ms/step - loss: 1.2745 - acc: 0.5078 - val_loss: 1.2344 - val_acc: 0.5223\n",
            "Epoch 37/200\n",
            "2876/2876 [==============================] - 6s 2ms/step - loss: 1.2768 - acc: 0.5090 - val_loss: 1.2388 - val_acc: 0.5231\n",
            "Epoch 38/200\n",
            "2876/2876 [==============================] - 6s 2ms/step - loss: 1.2751 - acc: 0.5091 - val_loss: 1.2347 - val_acc: 0.5253\n",
            "Epoch 39/200\n",
            "2876/2876 [==============================] - 6s 2ms/step - loss: 1.2770 - acc: 0.5088 - val_loss: 1.2360 - val_acc: 0.5236\n",
            "Epoch 40/200\n",
            "2876/2876 [==============================] - 6s 2ms/step - loss: 1.2751 - acc: 0.5087 - val_loss: 1.2360 - val_acc: 0.5296\n",
            "Epoch 41/200\n",
            "2876/2876 [==============================] - 6s 2ms/step - loss: 1.2753 - acc: 0.5094 - val_loss: 1.2394 - val_acc: 0.5259\n",
            "Epoch 42/200\n",
            "2876/2876 [==============================] - 6s 2ms/step - loss: 1.2758 - acc: 0.5083 - val_loss: 1.2313 - val_acc: 0.5235\n",
            "Epoch 43/200\n",
            "2876/2876 [==============================] - 6s 2ms/step - loss: 1.2760 - acc: 0.5090 - val_loss: 1.2283 - val_acc: 0.5282\n",
            "Epoch 44/200\n",
            "2876/2876 [==============================] - 6s 2ms/step - loss: 1.2761 - acc: 0.5087 - val_loss: 1.2356 - val_acc: 0.5249\n",
            "Epoch 45/200\n",
            "2876/2876 [==============================] - 6s 2ms/step - loss: 1.2760 - acc: 0.5061 - val_loss: 1.2392 - val_acc: 0.5207\n",
            "Epoch 46/200\n",
            "2876/2876 [==============================] - 6s 2ms/step - loss: 1.2756 - acc: 0.5088 - val_loss: 1.2313 - val_acc: 0.5292\n",
            "Epoch 47/200\n",
            "2876/2876 [==============================] - 6s 2ms/step - loss: 1.2757 - acc: 0.5095 - val_loss: 1.2298 - val_acc: 0.5292\n",
            "Epoch 48/200\n",
            "2876/2876 [==============================] - 6s 2ms/step - loss: 1.2760 - acc: 0.5092 - val_loss: 1.2318 - val_acc: 0.5260\n",
            "Epoch 49/200\n",
            "2876/2876 [==============================] - 6s 2ms/step - loss: 1.2754 - acc: 0.5087 - val_loss: 1.2279 - val_acc: 0.5262\n",
            "Epoch 50/200\n",
            "2876/2876 [==============================] - 6s 2ms/step - loss: 1.2763 - acc: 0.5090 - val_loss: 1.2344 - val_acc: 0.5275\n",
            "Epoch 51/200\n",
            "2876/2876 [==============================] - 6s 2ms/step - loss: 1.2732 - acc: 0.5110 - val_loss: 1.2263 - val_acc: 0.5283\n",
            "Epoch 52/200\n",
            "2876/2876 [==============================] - 6s 2ms/step - loss: 1.2756 - acc: 0.5079 - val_loss: 1.2324 - val_acc: 0.5258\n",
            "Epoch 53/200\n",
            "2876/2876 [==============================] - 6s 2ms/step - loss: 1.2755 - acc: 0.5086 - val_loss: 1.2305 - val_acc: 0.5254\n",
            "Epoch 54/200\n",
            "2876/2876 [==============================] - 6s 2ms/step - loss: 1.2777 - acc: 0.5086 - val_loss: 1.2304 - val_acc: 0.5269\n",
            "Epoch 55/200\n",
            "2876/2876 [==============================] - 6s 2ms/step - loss: 1.2760 - acc: 0.5078 - val_loss: 1.2330 - val_acc: 0.5296\n",
            "Epoch 56/200\n",
            "2876/2876 [==============================] - 6s 2ms/step - loss: 1.2779 - acc: 0.5100 - val_loss: 1.2342 - val_acc: 0.5213\n",
            "Epoch 57/200\n",
            "2876/2876 [==============================] - 6s 2ms/step - loss: 1.2746 - acc: 0.5073 - val_loss: 1.2354 - val_acc: 0.5264\n",
            "Epoch 58/200\n",
            "2876/2876 [==============================] - 6s 2ms/step - loss: 1.2750 - acc: 0.5075 - val_loss: 1.2335 - val_acc: 0.5265\n",
            "Epoch 59/200\n",
            "2876/2876 [==============================] - 6s 2ms/step - loss: 1.2750 - acc: 0.5080 - val_loss: 1.2330 - val_acc: 0.5230\n",
            "Epoch 60/200\n",
            "2876/2876 [==============================] - 6s 2ms/step - loss: 1.2764 - acc: 0.5083 - val_loss: 1.2290 - val_acc: 0.5275\n",
            "Epoch 61/200\n",
            "2876/2876 [==============================] - 6s 2ms/step - loss: 1.2756 - acc: 0.5081 - val_loss: 1.2319 - val_acc: 0.5278\n",
            "Epoch 62/200\n",
            "2876/2876 [==============================] - 6s 2ms/step - loss: 1.2754 - acc: 0.5081 - val_loss: 1.2357 - val_acc: 0.5250\n",
            "Epoch 63/200\n",
            "2876/2876 [==============================] - 6s 2ms/step - loss: 1.2756 - acc: 0.5084 - val_loss: 1.2301 - val_acc: 0.5273\n",
            "Epoch 64/200\n",
            "2876/2876 [==============================] - 6s 2ms/step - loss: 1.2754 - acc: 0.5097 - val_loss: 1.2426 - val_acc: 0.5185\n",
            "Epoch 65/200\n",
            "2876/2876 [==============================] - 6s 2ms/step - loss: 1.2764 - acc: 0.5091 - val_loss: 1.2314 - val_acc: 0.5264\n",
            "Epoch 66/200\n",
            "2876/2876 [==============================] - 6s 2ms/step - loss: 1.2752 - acc: 0.5084 - val_loss: 1.2276 - val_acc: 0.5296\n",
            "Epoch 67/200\n",
            "2876/2876 [==============================] - 6s 2ms/step - loss: 1.2755 - acc: 0.5083 - val_loss: 1.2340 - val_acc: 0.5246\n",
            "Epoch 68/200\n",
            "2876/2876 [==============================] - 6s 2ms/step - loss: 1.2767 - acc: 0.5070 - val_loss: 1.2296 - val_acc: 0.5264\n",
            "Epoch 69/200\n",
            "2876/2876 [==============================] - 6s 2ms/step - loss: 1.2762 - acc: 0.5074 - val_loss: 1.2261 - val_acc: 0.5319\n",
            "Epoch 70/200\n",
            "2876/2876 [==============================] - 6s 2ms/step - loss: 1.2761 - acc: 0.5074 - val_loss: 1.2353 - val_acc: 0.5231\n",
            "Epoch 71/200\n",
            "2876/2876 [==============================] - 6s 2ms/step - loss: 1.2740 - acc: 0.5097 - val_loss: 1.2343 - val_acc: 0.5253\n",
            "Epoch 72/200\n",
            "2876/2876 [==============================] - 6s 2ms/step - loss: 1.2772 - acc: 0.5093 - val_loss: 1.2350 - val_acc: 0.5251\n",
            "Epoch 73/200\n",
            "2876/2876 [==============================] - 7s 2ms/step - loss: 1.2780 - acc: 0.5067 - val_loss: 1.2323 - val_acc: 0.5238\n",
            "Epoch 74/200\n",
            "2876/2876 [==============================] - 6s 2ms/step - loss: 1.2756 - acc: 0.5086 - val_loss: 1.2334 - val_acc: 0.5293\n",
            "Epoch 75/200\n",
            "2876/2876 [==============================] - 6s 2ms/step - loss: 1.2766 - acc: 0.5082 - val_loss: 1.2337 - val_acc: 0.5278\n",
            "Epoch 76/200\n",
            "2876/2876 [==============================] - 6s 2ms/step - loss: 1.2754 - acc: 0.5097 - val_loss: 1.2341 - val_acc: 0.5258\n",
            "Epoch 77/200\n",
            "2876/2876 [==============================] - 6s 2ms/step - loss: 1.2751 - acc: 0.5095 - val_loss: 1.2286 - val_acc: 0.5274\n",
            "Epoch 78/200\n",
            "2876/2876 [==============================] - 6s 2ms/step - loss: 1.2758 - acc: 0.5094 - val_loss: 1.2306 - val_acc: 0.5249\n",
            "Epoch 79/200\n",
            "2876/2876 [==============================] - 6s 2ms/step - loss: 1.2750 - acc: 0.5085 - val_loss: 1.2301 - val_acc: 0.5266\n",
            "Epoch 80/200\n",
            "2876/2876 [==============================] - 6s 2ms/step - loss: 1.2755 - acc: 0.5092 - val_loss: 1.2316 - val_acc: 0.5270\n",
            "Epoch 81/200\n",
            "2876/2876 [==============================] - 6s 2ms/step - loss: 1.2752 - acc: 0.5090 - val_loss: 1.2320 - val_acc: 0.5282\n",
            "Epoch 82/200\n",
            "2876/2876 [==============================] - 7s 2ms/step - loss: 1.2748 - acc: 0.5092 - val_loss: 1.2344 - val_acc: 0.5234\n",
            "Epoch 83/200\n",
            "2876/2876 [==============================] - 6s 2ms/step - loss: 1.2746 - acc: 0.5104 - val_loss: 1.2307 - val_acc: 0.5267\n",
            "Epoch 84/200\n",
            "2876/2876 [==============================] - 6s 2ms/step - loss: 1.2746 - acc: 0.5105 - val_loss: 1.2291 - val_acc: 0.5271\n",
            "Epoch 85/200\n",
            "2876/2876 [==============================] - 6s 2ms/step - loss: 1.2769 - acc: 0.5093 - val_loss: 1.2310 - val_acc: 0.5284\n",
            "Epoch 86/200\n",
            "2876/2876 [==============================] - 6s 2ms/step - loss: 1.2780 - acc: 0.5077 - val_loss: 1.2299 - val_acc: 0.5278\n",
            "Epoch 87/200\n",
            "2876/2876 [==============================] - 6s 2ms/step - loss: 1.2749 - acc: 0.5097 - val_loss: 1.2408 - val_acc: 0.5255\n",
            "Epoch 88/200\n",
            "2876/2876 [==============================] - 6s 2ms/step - loss: 1.2772 - acc: 0.5049 - val_loss: 1.2347 - val_acc: 0.5235\n",
            "Epoch 89/200\n",
            "2876/2876 [==============================] - 6s 2ms/step - loss: 1.2768 - acc: 0.5087 - val_loss: 1.2335 - val_acc: 0.5257\n",
            "Epoch 90/200\n",
            "2876/2876 [==============================] - 6s 2ms/step - loss: 1.2737 - acc: 0.5077 - val_loss: 1.2344 - val_acc: 0.5235\n",
            "Epoch 91/200\n",
            "2876/2876 [==============================] - 6s 2ms/step - loss: 1.2737 - acc: 0.5087 - val_loss: 1.2338 - val_acc: 0.5259\n",
            "Epoch 92/200\n",
            "2876/2876 [==============================] - 6s 2ms/step - loss: 1.2747 - acc: 0.5095 - val_loss: 1.2311 - val_acc: 0.5269\n",
            "Epoch 93/200\n",
            "2876/2876 [==============================] - 6s 2ms/step - loss: 1.2750 - acc: 0.5084 - val_loss: 1.2290 - val_acc: 0.5280\n",
            "Epoch 94/200\n",
            "2876/2876 [==============================] - 6s 2ms/step - loss: 1.2761 - acc: 0.5093 - val_loss: 1.2291 - val_acc: 0.5278\n",
            "Epoch 95/200\n",
            "2876/2876 [==============================] - 6s 2ms/step - loss: 1.2742 - acc: 0.5099 - val_loss: 1.2248 - val_acc: 0.5294\n",
            "Epoch 96/200\n",
            "2876/2876 [==============================] - 6s 2ms/step - loss: 1.2751 - acc: 0.5090 - val_loss: 1.2298 - val_acc: 0.5333\n",
            "Epoch 97/200\n",
            "2876/2876 [==============================] - 6s 2ms/step - loss: 1.2738 - acc: 0.5098 - val_loss: 1.2277 - val_acc: 0.5295\n",
            "Epoch 98/200\n",
            "2876/2876 [==============================] - 6s 2ms/step - loss: 1.2752 - acc: 0.5109 - val_loss: 1.2280 - val_acc: 0.5294\n",
            "Epoch 99/200\n",
            "2876/2876 [==============================] - 6s 2ms/step - loss: 1.2759 - acc: 0.5087 - val_loss: 1.2294 - val_acc: 0.5260\n",
            "Epoch 100/200\n",
            "2876/2876 [==============================] - 6s 2ms/step - loss: 1.2744 - acc: 0.5080 - val_loss: 1.2374 - val_acc: 0.5277\n",
            "Epoch 101/200\n",
            "2876/2876 [==============================] - 6s 2ms/step - loss: 1.2765 - acc: 0.5079 - val_loss: 1.2300 - val_acc: 0.5273\n",
            "Epoch 102/200\n",
            "2876/2876 [==============================] - 6s 2ms/step - loss: 1.2757 - acc: 0.5109 - val_loss: 1.2256 - val_acc: 0.5296\n",
            "Epoch 103/200\n",
            "2876/2876 [==============================] - 6s 2ms/step - loss: 1.2768 - acc: 0.5078 - val_loss: 1.2397 - val_acc: 0.5238\n",
            "Epoch 104/200\n",
            "2876/2876 [==============================] - 6s 2ms/step - loss: 1.2741 - acc: 0.5102 - val_loss: 1.2312 - val_acc: 0.5272\n",
            "Epoch 105/200\n",
            "2876/2876 [==============================] - 6s 2ms/step - loss: 1.2749 - acc: 0.5088 - val_loss: 1.2322 - val_acc: 0.5234\n",
            "Epoch 106/200\n",
            "2876/2876 [==============================] - 6s 2ms/step - loss: 1.2743 - acc: 0.5094 - val_loss: 1.2350 - val_acc: 0.5244\n",
            "Epoch 107/200\n",
            "2876/2876 [==============================] - 6s 2ms/step - loss: 1.2742 - acc: 0.5078 - val_loss: 1.2266 - val_acc: 0.5290\n",
            "Epoch 108/200\n",
            "2876/2876 [==============================] - 6s 2ms/step - loss: 1.2758 - acc: 0.5073 - val_loss: 1.2315 - val_acc: 0.5244\n",
            "Epoch 109/200\n",
            "2876/2876 [==============================] - 6s 2ms/step - loss: 1.2776 - acc: 0.5059 - val_loss: 1.2311 - val_acc: 0.5269\n",
            "Epoch 110/200\n",
            "2876/2876 [==============================] - 6s 2ms/step - loss: 1.2771 - acc: 0.5059 - val_loss: 1.2314 - val_acc: 0.5241\n",
            "Epoch 111/200\n",
            "2876/2876 [==============================] - 6s 2ms/step - loss: 1.2747 - acc: 0.5083 - val_loss: 1.2302 - val_acc: 0.5300\n",
            "Epoch 112/200\n",
            "2876/2876 [==============================] - 6s 2ms/step - loss: 1.2748 - acc: 0.5098 - val_loss: 1.2396 - val_acc: 0.5249\n",
            "Epoch 113/200\n",
            "2876/2876 [==============================] - 6s 2ms/step - loss: 1.2780 - acc: 0.5073 - val_loss: 1.2362 - val_acc: 0.5232\n",
            "Epoch 114/200\n",
            "2876/2876 [==============================] - 6s 2ms/step - loss: 1.2757 - acc: 0.5078 - val_loss: 1.2292 - val_acc: 0.5286\n",
            "Epoch 115/200\n",
            "2876/2876 [==============================] - 6s 2ms/step - loss: 1.2762 - acc: 0.5085 - val_loss: 1.2286 - val_acc: 0.5289\n",
            "Epoch 116/200\n",
            "2876/2876 [==============================] - 6s 2ms/step - loss: 1.2756 - acc: 0.5077 - val_loss: 1.2308 - val_acc: 0.5276\n",
            "Epoch 117/200\n",
            "2876/2876 [==============================] - 6s 2ms/step - loss: 1.2748 - acc: 0.5064 - val_loss: 1.2379 - val_acc: 0.5241\n",
            "Epoch 118/200\n",
            "2876/2876 [==============================] - 6s 2ms/step - loss: 1.2771 - acc: 0.5078 - val_loss: 1.2303 - val_acc: 0.5281\n",
            "Epoch 119/200\n",
            "2876/2876 [==============================] - 6s 2ms/step - loss: 1.2725 - acc: 0.5102 - val_loss: 1.2271 - val_acc: 0.5304\n",
            "Epoch 120/200\n",
            "2876/2876 [==============================] - 6s 2ms/step - loss: 1.2721 - acc: 0.5101 - val_loss: 1.2303 - val_acc: 0.5286\n",
            "Epoch 121/200\n",
            "2876/2876 [==============================] - 6s 2ms/step - loss: 1.2753 - acc: 0.5075 - val_loss: 1.2315 - val_acc: 0.5254\n",
            "Epoch 122/200\n",
            "2876/2876 [==============================] - 7s 2ms/step - loss: 1.2752 - acc: 0.5086 - val_loss: 1.2265 - val_acc: 0.5294\n",
            "Epoch 123/200\n",
            "2876/2876 [==============================] - 7s 2ms/step - loss: 1.2747 - acc: 0.5094 - val_loss: 1.2262 - val_acc: 0.5313\n",
            "Epoch 124/200\n",
            "2876/2876 [==============================] - 6s 2ms/step - loss: 1.2755 - acc: 0.5097 - val_loss: 1.2329 - val_acc: 0.5257\n",
            "Epoch 125/200\n",
            "2876/2876 [==============================] - 6s 2ms/step - loss: 1.2766 - acc: 0.5082 - val_loss: 1.2309 - val_acc: 0.5270\n",
            "Epoch 126/200\n",
            "2876/2876 [==============================] - 6s 2ms/step - loss: 1.2752 - acc: 0.5106 - val_loss: 1.2334 - val_acc: 0.5252\n",
            "Epoch 127/200\n",
            "2876/2876 [==============================] - 6s 2ms/step - loss: 1.2765 - acc: 0.5084 - val_loss: 1.2370 - val_acc: 0.5221\n",
            "Epoch 128/200\n",
            "2876/2876 [==============================] - 6s 2ms/step - loss: 1.2765 - acc: 0.5080 - val_loss: 1.2288 - val_acc: 0.5260\n",
            "Epoch 129/200\n",
            "2876/2876 [==============================] - 6s 2ms/step - loss: 1.2773 - acc: 0.5066 - val_loss: 1.2350 - val_acc: 0.5275\n",
            "Epoch 130/200\n",
            "2876/2876 [==============================] - 6s 2ms/step - loss: 1.2752 - acc: 0.5096 - val_loss: 1.2272 - val_acc: 0.5260\n",
            "Epoch 131/200\n",
            "2876/2876 [==============================] - 6s 2ms/step - loss: 1.2744 - acc: 0.5089 - val_loss: 1.2312 - val_acc: 0.5293\n",
            "Epoch 132/200\n",
            "2876/2876 [==============================] - 7s 2ms/step - loss: 1.2757 - acc: 0.5084 - val_loss: 1.2328 - val_acc: 0.5248\n",
            "Epoch 133/200\n",
            "2876/2876 [==============================] - 7s 2ms/step - loss: 1.2749 - acc: 0.5104 - val_loss: 1.2286 - val_acc: 0.5304\n",
            "Epoch 134/200\n",
            "2876/2876 [==============================] - 6s 2ms/step - loss: 1.2761 - acc: 0.5079 - val_loss: 1.2349 - val_acc: 0.5283\n",
            "Epoch 135/200\n",
            "2876/2876 [==============================] - 6s 2ms/step - loss: 1.2751 - acc: 0.5096 - val_loss: 1.2321 - val_acc: 0.5250\n",
            "Epoch 136/200\n",
            "2876/2876 [==============================] - 6s 2ms/step - loss: 1.2762 - acc: 0.5075 - val_loss: 1.2319 - val_acc: 0.5249\n",
            "Epoch 137/200\n",
            "2876/2876 [==============================] - 6s 2ms/step - loss: 1.2741 - acc: 0.5089 - val_loss: 1.2305 - val_acc: 0.5264\n",
            "Epoch 138/200\n",
            "2876/2876 [==============================] - 6s 2ms/step - loss: 1.2750 - acc: 0.5101 - val_loss: 1.2307 - val_acc: 0.5269\n",
            "Epoch 139/200\n",
            "2876/2876 [==============================] - 6s 2ms/step - loss: 1.2755 - acc: 0.5061 - val_loss: 1.2328 - val_acc: 0.5258\n",
            "Epoch 140/200\n",
            "2876/2876 [==============================] - 6s 2ms/step - loss: 1.2754 - acc: 0.5104 - val_loss: 1.2358 - val_acc: 0.5255\n",
            "Epoch 141/200\n",
            "2876/2876 [==============================] - 6s 2ms/step - loss: 1.2761 - acc: 0.5066 - val_loss: 1.2354 - val_acc: 0.5284\n",
            "Epoch 142/200\n",
            "2876/2876 [==============================] - 6s 2ms/step - loss: 1.2744 - acc: 0.5080 - val_loss: 1.2288 - val_acc: 0.5251\n",
            "Epoch 143/200\n",
            "2876/2876 [==============================] - 6s 2ms/step - loss: 1.2755 - acc: 0.5078 - val_loss: 1.2342 - val_acc: 0.5241\n",
            "Epoch 144/200\n",
            "2876/2876 [==============================] - 6s 2ms/step - loss: 1.2754 - acc: 0.5089 - val_loss: 1.2288 - val_acc: 0.5269\n",
            "Epoch 145/200\n",
            "2876/2876 [==============================] - 6s 2ms/step - loss: 1.2763 - acc: 0.5080 - val_loss: 1.2350 - val_acc: 0.5268\n",
            "Epoch 146/200\n",
            "2876/2876 [==============================] - 6s 2ms/step - loss: 1.2746 - acc: 0.5081 - val_loss: 1.2329 - val_acc: 0.5266\n",
            "Epoch 147/200\n",
            "2876/2876 [==============================] - 6s 2ms/step - loss: 1.2740 - acc: 0.5087 - val_loss: 1.2318 - val_acc: 0.5264\n",
            "Epoch 148/200\n",
            "2876/2876 [==============================] - 6s 2ms/step - loss: 1.2734 - acc: 0.5090 - val_loss: 1.2350 - val_acc: 0.5232\n",
            "Epoch 149/200\n",
            "2876/2876 [==============================] - 6s 2ms/step - loss: 1.2767 - acc: 0.5074 - val_loss: 1.2328 - val_acc: 0.5220\n",
            "Epoch 150/200\n",
            "2876/2876 [==============================] - 6s 2ms/step - loss: 1.2751 - acc: 0.5093 - val_loss: 1.2295 - val_acc: 0.5248\n",
            "Epoch 151/200\n",
            "2876/2876 [==============================] - 6s 2ms/step - loss: 1.2721 - acc: 0.5105 - val_loss: 1.2318 - val_acc: 0.5252\n",
            "Epoch 152/200\n",
            "2876/2876 [==============================] - 6s 2ms/step - loss: 1.2756 - acc: 0.5083 - val_loss: 1.2355 - val_acc: 0.5253\n",
            "Epoch 153/200\n",
            "2876/2876 [==============================] - 6s 2ms/step - loss: 1.2752 - acc: 0.5085 - val_loss: 1.2334 - val_acc: 0.5263\n",
            "Epoch 154/200\n",
            "2876/2876 [==============================] - 6s 2ms/step - loss: 1.2746 - acc: 0.5102 - val_loss: 1.2328 - val_acc: 0.5234\n",
            "Epoch 155/200\n",
            "2876/2876 [==============================] - 6s 2ms/step - loss: 1.2755 - acc: 0.5077 - val_loss: 1.2315 - val_acc: 0.5277\n",
            "Epoch 156/200\n",
            "2876/2876 [==============================] - 6s 2ms/step - loss: 1.2761 - acc: 0.5097 - val_loss: 1.2265 - val_acc: 0.5314\n",
            "Epoch 157/200\n",
            "2876/2876 [==============================] - 6s 2ms/step - loss: 1.2755 - acc: 0.5069 - val_loss: 1.2319 - val_acc: 0.5276\n",
            "Epoch 158/200\n",
            "2876/2876 [==============================] - 6s 2ms/step - loss: 1.2739 - acc: 0.5083 - val_loss: 1.2278 - val_acc: 0.5284\n",
            "Epoch 159/200\n",
            "2876/2876 [==============================] - 6s 2ms/step - loss: 1.2751 - acc: 0.5097 - val_loss: 1.2311 - val_acc: 0.5294\n",
            "Epoch 160/200\n",
            "2876/2876 [==============================] - 6s 2ms/step - loss: 1.2759 - acc: 0.5076 - val_loss: 1.2243 - val_acc: 0.5296\n",
            "Epoch 161/200\n",
            "2876/2876 [==============================] - 6s 2ms/step - loss: 1.2769 - acc: 0.5076 - val_loss: 1.2325 - val_acc: 0.5280\n",
            "Epoch 162/200\n",
            "2876/2876 [==============================] - 6s 2ms/step - loss: 1.2761 - acc: 0.5089 - val_loss: 1.2340 - val_acc: 0.5249\n",
            "Epoch 163/200\n",
            "2876/2876 [==============================] - 6s 2ms/step - loss: 1.2749 - acc: 0.5092 - val_loss: 1.2290 - val_acc: 0.5295\n",
            "Epoch 164/200\n",
            "2876/2876 [==============================] - 6s 2ms/step - loss: 1.2735 - acc: 0.5100 - val_loss: 1.2273 - val_acc: 0.5267\n",
            "Epoch 165/200\n",
            "2876/2876 [==============================] - 6s 2ms/step - loss: 1.2751 - acc: 0.5098 - val_loss: 1.2301 - val_acc: 0.5252\n",
            "Epoch 166/200\n",
            "2876/2876 [==============================] - 6s 2ms/step - loss: 1.2749 - acc: 0.5101 - val_loss: 1.2257 - val_acc: 0.5316\n",
            "Epoch 167/200\n",
            "2876/2876 [==============================] - 6s 2ms/step - loss: 1.2748 - acc: 0.5100 - val_loss: 1.2318 - val_acc: 0.5316\n",
            "Epoch 168/200\n",
            "2876/2876 [==============================] - 6s 2ms/step - loss: 1.2748 - acc: 0.5103 - val_loss: 1.2300 - val_acc: 0.5269\n",
            "Epoch 169/200\n",
            "2876/2876 [==============================] - 6s 2ms/step - loss: 1.2750 - acc: 0.5070 - val_loss: 1.2286 - val_acc: 0.5261\n",
            "Epoch 170/200\n",
            "2876/2876 [==============================] - 6s 2ms/step - loss: 1.2759 - acc: 0.5093 - val_loss: 1.2303 - val_acc: 0.5273\n",
            "Epoch 171/200\n",
            "2876/2876 [==============================] - 6s 2ms/step - loss: 1.2767 - acc: 0.5099 - val_loss: 1.2307 - val_acc: 0.5202\n",
            "Epoch 172/200\n",
            "2876/2876 [==============================] - 7s 2ms/step - loss: 1.2738 - acc: 0.5096 - val_loss: 1.2369 - val_acc: 0.5262\n",
            "Epoch 173/200\n",
            "2876/2876 [==============================] - 6s 2ms/step - loss: 1.2754 - acc: 0.5085 - val_loss: 1.2344 - val_acc: 0.5256\n",
            "Epoch 174/200\n",
            "2876/2876 [==============================] - 6s 2ms/step - loss: 1.2753 - acc: 0.5073 - val_loss: 1.2422 - val_acc: 0.5218\n",
            "Epoch 175/200\n",
            "2876/2876 [==============================] - 6s 2ms/step - loss: 1.2765 - acc: 0.5090 - val_loss: 1.2299 - val_acc: 0.5290\n",
            "Epoch 176/200\n",
            "2876/2876 [==============================] - 6s 2ms/step - loss: 1.2736 - acc: 0.5085 - val_loss: 1.2316 - val_acc: 0.5273\n",
            "Epoch 177/200\n",
            "2876/2876 [==============================] - 6s 2ms/step - loss: 1.2773 - acc: 0.5091 - val_loss: 1.2354 - val_acc: 0.5247\n",
            "Epoch 178/200\n",
            "2876/2876 [==============================] - 6s 2ms/step - loss: 1.2755 - acc: 0.5098 - val_loss: 1.2283 - val_acc: 0.5281\n",
            "Epoch 179/200\n",
            "2876/2876 [==============================] - 6s 2ms/step - loss: 1.2742 - acc: 0.5091 - val_loss: 1.2333 - val_acc: 0.5262\n",
            "Epoch 180/200\n",
            "2876/2876 [==============================] - 6s 2ms/step - loss: 1.2743 - acc: 0.5103 - val_loss: 1.2349 - val_acc: 0.5250\n",
            "Epoch 181/200\n",
            "2876/2876 [==============================] - 6s 2ms/step - loss: 1.2745 - acc: 0.5106 - val_loss: 1.2370 - val_acc: 0.5230\n",
            "Epoch 182/200\n",
            "2876/2876 [==============================] - 7s 2ms/step - loss: 1.2741 - acc: 0.5094 - val_loss: 1.2300 - val_acc: 0.5286\n",
            "Epoch 183/200\n",
            "2876/2876 [==============================] - 7s 2ms/step - loss: 1.2745 - acc: 0.5092 - val_loss: 1.2319 - val_acc: 0.5258\n",
            "Epoch 184/200\n",
            "2876/2876 [==============================] - 6s 2ms/step - loss: 1.2753 - acc: 0.5086 - val_loss: 1.2349 - val_acc: 0.5252\n",
            "Epoch 185/200\n",
            "2876/2876 [==============================] - 6s 2ms/step - loss: 1.2762 - acc: 0.5092 - val_loss: 1.2343 - val_acc: 0.5285\n",
            "Epoch 186/200\n",
            "2876/2876 [==============================] - 6s 2ms/step - loss: 1.2754 - acc: 0.5072 - val_loss: 1.2263 - val_acc: 0.5279\n",
            "Epoch 187/200\n",
            "2876/2876 [==============================] - 6s 2ms/step - loss: 1.2768 - acc: 0.5079 - val_loss: 1.2303 - val_acc: 0.5305\n",
            "Epoch 188/200\n",
            "2876/2876 [==============================] - 6s 2ms/step - loss: 1.2748 - acc: 0.5089 - val_loss: 1.2360 - val_acc: 0.5239\n",
            "Epoch 189/200\n",
            "2876/2876 [==============================] - 6s 2ms/step - loss: 1.2740 - acc: 0.5094 - val_loss: 1.2301 - val_acc: 0.5303\n",
            "Epoch 190/200\n",
            "2876/2876 [==============================] - 6s 2ms/step - loss: 1.2756 - acc: 0.5086 - val_loss: 1.2299 - val_acc: 0.5281\n",
            "Epoch 191/200\n",
            "2876/2876 [==============================] - 6s 2ms/step - loss: 1.2745 - acc: 0.5101 - val_loss: 1.2305 - val_acc: 0.5263\n",
            "Epoch 192/200\n",
            "2876/2876 [==============================] - 6s 2ms/step - loss: 1.2742 - acc: 0.5100 - val_loss: 1.2316 - val_acc: 0.5266\n",
            "Epoch 193/200\n",
            "2876/2876 [==============================] - 6s 2ms/step - loss: 1.2742 - acc: 0.5107 - val_loss: 1.2346 - val_acc: 0.5230\n",
            "Epoch 194/200\n",
            "2876/2876 [==============================] - 6s 2ms/step - loss: 1.2750 - acc: 0.5074 - val_loss: 1.2295 - val_acc: 0.5301\n",
            "Epoch 195/200\n",
            "2876/2876 [==============================] - 6s 2ms/step - loss: 1.2773 - acc: 0.5076 - val_loss: 1.2297 - val_acc: 0.5318\n",
            "Epoch 196/200\n",
            "2876/2876 [==============================] - 6s 2ms/step - loss: 1.2749 - acc: 0.5088 - val_loss: 1.2385 - val_acc: 0.5236\n",
            "Epoch 197/200\n",
            "2876/2876 [==============================] - 6s 2ms/step - loss: 1.2768 - acc: 0.5075 - val_loss: 1.2315 - val_acc: 0.5269\n",
            "Epoch 198/200\n",
            "2876/2876 [==============================] - 6s 2ms/step - loss: 1.2752 - acc: 0.5093 - val_loss: 1.2376 - val_acc: 0.5259\n",
            "Epoch 199/200\n",
            "2876/2876 [==============================] - 6s 2ms/step - loss: 1.2755 - acc: 0.5102 - val_loss: 1.2322 - val_acc: 0.5296\n",
            "Epoch 200/200\n",
            "2876/2876 [==============================] - 6s 2ms/step - loss: 1.2754 - acc: 0.5086 - val_loss: 1.2368 - val_acc: 0.5271\n"
          ],
          "name": "stdout"
        }
      ]
    },
    {
      "cell_type": "markdown",
      "metadata": {
        "id": "fC5LoC5HI9iN"
      },
      "source": [
        "Visualization"
      ]
    },
    {
      "cell_type": "code",
      "metadata": {
        "id": "-F8F1ejkI0q1",
        "colab": {
          "base_uri": "https://localhost:8080/",
          "height": 1000
        },
        "outputId": "d79e6602-3bd6-4aa5-b5d6-ccf1675c204e"
      },
      "source": [
        "# Plot accuracy curves:\n",
        "with sns.color_palette(\"Accent\", n_colors=8):\n",
        "    plt.figure(figsize=(8,6))\n",
        "    sns.lineplot(data=np.asarray(m_h.history['acc']))\n",
        "    sns.lineplot(data=np.asarray(m_h.history['val_acc']))\n",
        "    plt.xlabel(\"Epochs\")\n",
        "    plt.ylabel(\"Accuracy\")\n",
        "    plt.title(\"Accuracy for Media Bias Classification\")\n",
        "    plt.legend(labels=['training', 'validation'],loc='lower right')\n",
        "    plt.text(330,0.755,'val Ac = ' + str(round(metrics.accuracy_score(y_test, np.argmax(news_DNN.predict(X_test), axis=-1)),2))) \n",
        "    plt.savefig('outlets_bias_acc.svg',format='svg')\n",
        "\n",
        "# Plot confusion matrix:\n",
        "plt.figure(figsize=(4, 3))\n",
        "sns.heatmap(metrics.confusion_matrix(y_test, np.argmax(news_DNN.predict(X_test), axis=-1)),\\\n",
        "annot=True,linewidths=2, cmap=\"YlGnBu\",fmt=\"g\", \\\n",
        "xticklabels=list([i for i in range(5)]),\\\n",
        "yticklabels=list([i for i in range(5)]))\n",
        "plt.autoscale()\n",
        "# plt.savefig('confusion_matrix_outlet_bias_bal.png',format='PNG',bbox_inches = \"tight\")\n",
        "\n",
        "# Plot loss curves:\n",
        "with sns.color_palette(\"Accent\", n_colors=8):\n",
        "    plt.figure(figsize=(8,6))\n",
        "    sns.lineplot(data=np.asarray(m_h.history['loss']))\n",
        "    sns.lineplot(data=np.asarray(m_h.history['loss']))\n",
        "    plt.xlabel(\"Epochs\")\n",
        "    plt.ylabel(\"Loss\")\n",
        "    plt.title(\"Loss functions for Media Bias Classification\")\n",
        "    plt.legend(labels=['training', 'validation'])\n",
        "    # plt.savefig('outlets_bias_loss.svg',format='SVG') "
      ],
      "execution_count": null,
      "outputs": [
        {
          "output_type": "display_data",
          "data": {
            "image/png": "[encoded data removed]",
            "text/plain": [
              "<Figure size 576x432 with 1 Axes>"
            ]
          },
          "metadata": {
            "tags": [],
            "needs_background": "light"
          }
        },
        {
          "output_type": "display_data",
          "data": {
            "image/png": "[encoded data removed]",
            "text/plain": [
              "<Figure size 288x216 with 2 Axes>"
            ]
          },
          "metadata": {
            "tags": [],
            "needs_background": "light"
          }
        },
        {
          "output_type": "display_data",
          "data": {
            "image/png": "[encoded data removed]",
            "text/plain": [
              "<Figure size 576x432 with 1 Axes>"
            ]
          },
          "metadata": {
            "tags": [],
            "needs_background": "light"
          }
        }
      ]
    },
    {
      "cell_type": "code",
      "metadata": {
        "id": "AVAgh0VY994q"
      },
      "source": [
        "# saving model to json file\n",
        "model_json = news_DNN.to_json()\n",
        "with open(\"model1.json\", \"w\") as json_file:\n",
        "    json_file.write(model_json)≤\n",
        "# serialize weights to HDF5\n",
        "news_DNN.save_weights(\"model1.h5\")"
      ],
      "execution_count": null,
      "outputs": []
    },
    {
      "cell_type": "code",
      "metadata": {
        "id": "AojA52JY-ATt"
      },
      "source": [
        "#\n",
        "json_file = open('model.json', 'r')\n",
        "loaded_model_json = json_file.read()\n",
        "json_file.close()\n",
        "loaded_model = model_from_json(loaded_model_json)\n",
        "# load weights into new model\n",
        "loaded_model.load_weights(\"model.h5\")"
      ],
      "execution_count": null,
      "outputs": []
    },
    {
      "cell_type": "code",
      "metadata": {
        "id": "vK0DttD3YMZy"
      },
      "source": [
        "# Classifier - Algorithm - SVM\n",
        "# fit the training dataset on the classifier\n",
        "SVM = svm.SVC(C=1.0, kernel='linear', degree=3, gamma='auto')\n",
        "print(\"fitting now\")\n",
        "SVM.fit(X_train,y_train)\n",
        "# predict the labels on validation dataset\n",
        "print(\"predicting now\")\n",
        "predictions_SVM = SVM.predict(X_test)\n",
        "# Use accuracy_score function to get the accuracy\n",
        "print(\"SVM Accuracy Score -> \",accuracy_score(predictions_SVM, y_test)*100)"
      ],
      "execution_count": null,
      "outputs": []
    }
  ]
}